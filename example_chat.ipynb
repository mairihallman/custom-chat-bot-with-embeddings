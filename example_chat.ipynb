{
 "cells": [
  {
   "cell_type": "markdown",
   "id": "ab3eb3a5-6b71-4e6d-b8c6-71e5e1fb747d",
   "metadata": {},
   "source": [
    "# Custom Chat Bot with Embeddings - Paul's Online Notes (Undergrad Calculus)"
   ]
  },
  {
   "cell_type": "code",
   "execution_count": 1,
   "id": "b5657fa3-fe97-45b5-b89b-4ea6f92b4c2c",
   "metadata": {
    "tags": []
   },
   "outputs": [],
   "source": [
    "import openai\n",
    "import pandas as pd\n",
    "import ipywidgets as widgets\n",
    "import botFunct as bf"
   ]
  },
  {
   "cell_type": "code",
   "execution_count": 2,
   "id": "31c3147f-23f4-4b5b-bcb0-62c166d26375",
   "metadata": {
    "tags": []
   },
   "outputs": [
    {
     "data": {
      "application/vnd.jupyter.widget-view+json": {
       "model_id": "8aa1da9ed22540b58b9196ce353de5cd",
       "version_major": 2,
       "version_minor": 0
      },
      "text/plain": [
       "Password(description='OpenAI API KEY:', style=TextStyle(description_width='initial'))"
      ]
     },
     "execution_count": 2,
     "metadata": {},
     "output_type": "execute_result"
    }
   ],
   "source": [
    "key = widgets.Password(description = \"OpenAI API KEY:\", style = {\"description_width\" : \"initial\"})\n",
    "key"
   ]
  },
  {
   "cell_type": "code",
   "execution_count": 3,
   "id": "d96a24cd-514f-47d3-9d9a-84d8abbb5a3d",
   "metadata": {
    "tags": []
   },
   "outputs": [],
   "source": [
    "openai.api_key = key.value"
   ]
  },
  {
   "cell_type": "code",
   "execution_count": 4,
   "id": "fd45fcb2-3fcc-4787-baea-db5ecf9bdf61",
   "metadata": {
    "tags": []
   },
   "outputs": [
    {
     "data": {
      "application/vnd.jupyter.widget-view+json": {
       "model_id": "88c7eeb494a345ffbbb27df1d69d2d77",
       "version_major": 2,
       "version_minor": 0
      },
      "text/plain": [
       "Text(value='', description='Embeddings:', placeholder='path to embeddings file (csv)', style=TextStyle(descrip…"
      ]
     },
     "execution_count": 4,
     "metadata": {},
     "output_type": "execute_result"
    }
   ],
   "source": [
    "embeddings = widgets.Text(description = \"Embeddings:\", placeholder = \"path to embeddings file (csv)\", style = {\"description_width\" : \"initial\"})\n",
    "embeddings"
   ]
  },
  {
   "cell_type": "code",
   "execution_count": 5,
   "id": "e7c7a22c-6563-4351-a345-0a676901879e",
   "metadata": {
    "tags": []
   },
   "outputs": [],
   "source": [
    "with open(embeddings.value,encoding=\"utf-8\") as f:\n",
    "    df = pd.read_csv(f)\n",
    "    f.close()"
   ]
  },
  {
   "cell_type": "code",
   "execution_count": 6,
   "id": "a4e50f5d-82bc-4033-9302-e2a46d033276",
   "metadata": {
    "tags": []
   },
   "outputs": [
    {
     "data": {
      "application/vnd.jupyter.widget-view+json": {
       "model_id": "fe3a06d51d1e41949dd3358acf0db8e6",
       "version_major": 2,
       "version_minor": 0
      },
      "text/plain": [
       "Textarea(value='', description='Subject:', placeholder='What is your content about?', style=TextStyle(descript…"
      ]
     },
     "execution_count": 6,
     "metadata": {},
     "output_type": "execute_result"
    }
   ],
   "source": [
    "subject = widgets.Textarea(description = \"Subject:\", placeholder = \"What is your content about?\", style = {\"description_width\" : \"initial\"})\n",
    "subject"
   ]
  },
  {
   "cell_type": "code",
   "execution_count": 7,
   "id": "0b7be58a-7ed9-4382-8ab1-d15baf8b62e1",
   "metadata": {
    "tags": []
   },
   "outputs": [
    {
     "data": {
      "application/vnd.jupyter.widget-view+json": {
       "model_id": "4af39275fcbd424eaf41e800eda138fa",
       "version_major": 2,
       "version_minor": 0
      },
      "text/plain": [
       "Textarea(value='', description='Question:', placeholder='Your question here', style=TextStyle(description_widt…"
      ]
     },
     "execution_count": 7,
     "metadata": {},
     "output_type": "execute_result"
    }
   ],
   "source": [
    "question = widgets.Textarea(description = \"Question:\", placeholder = \"Your question here\", style = {\"description_width\" : \"initial\"})\n",
    "question"
   ]
  },
  {
   "cell_type": "code",
   "execution_count": 8,
   "id": "30776f95-0f1a-4bbe-a8ac-a7f12d1492e1",
   "metadata": {
    "tags": []
   },
   "outputs": [
    {
     "data": {
      "text/html": [
       "Chapter 10 is about Series and Sequences. It covers topics such as the basics of series, convergence and divergence of series, special series, power series and functions, and applications of series. It also discusses estimating the value of a series, and introduces concepts like the ratio test, the comparison test, and the limit comparison test. The chapter also explores the manipulation of series and the notation involved in series."
      ],
      "text/plain": [
       "<IPython.core.display.HTML object>"
      ]
     },
     "metadata": {},
     "output_type": "display_data"
    }
   ],
   "source": [
    "bf.ask(query = question.value, subject = subject.value, df = df)     "
   ]
  }
 ],
 "metadata": {
  "kernelspec": {
   "display_name": "chat_bot",
   "language": "python",
   "name": "chat_bot"
  },
  "language_info": {
   "codemirror_mode": {
    "name": "ipython",
    "version": 3
   },
   "file_extension": ".py",
   "mimetype": "text/x-python",
   "name": "python",
   "nbconvert_exporter": "python",
   "pygments_lexer": "ipython3",
   "version": "3.11.4"
  }
 },
 "nbformat": 4,
 "nbformat_minor": 5
}
