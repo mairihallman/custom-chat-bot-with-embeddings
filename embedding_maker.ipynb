{
 "cells": [
  {
   "cell_type": "markdown",
   "id": "8004e9c7-5d8d-40d2-b2f5-2fbd3c458269",
   "metadata": {},
   "source": [
    "# PDF to embeddings - Paul's Online Notes (Undergraduate Calculus)"
   ]
  },
  {
   "cell_type": "code",
   "execution_count": 1,
   "id": "f5bcdb70-0524-46ed-b73a-f61cc231416d",
   "metadata": {
    "tags": []
   },
   "outputs": [],
   "source": [
    "import openai\n",
    "import ipywidgets as widgets\n",
    "import embeddings_funct as ef"
   ]
  },
  {
   "cell_type": "code",
   "execution_count": 2,
   "id": "00b28ce4-13b2-4e36-8845-26b974aed006",
   "metadata": {
    "tags": []
   },
   "outputs": [
    {
     "data": {
      "application/vnd.jupyter.widget-view+json": {
       "model_id": "7c1595fb16ab4c5d87b093ccd4e9eb9e",
       "version_major": 2,
       "version_minor": 0
      },
      "text/plain": [
       "Password(description='OpenAI API KEY:', style=TextStyle(description_width='initial'))"
      ]
     },
     "execution_count": 2,
     "metadata": {},
     "output_type": "execute_result"
    }
   ],
   "source": [
    "key = widgets.Password(description = \"OpenAI API KEY:\", style = {\"description_width\" : \"initial\"})\n",
    "key"
   ]
  },
  {
   "cell_type": "code",
   "execution_count": 3,
   "id": "1728a7ba-47d2-42ef-9eca-7949d84d06e0",
   "metadata": {
    "tags": []
   },
   "outputs": [],
   "source": [
    "openai.api_key = key.value"
   ]
  },
  {
   "cell_type": "code",
   "execution_count": 4,
   "id": "2873bbf5-74ab-4a76-8866-a926ac41cc63",
   "metadata": {
    "tags": []
   },
   "outputs": [
    {
     "data": {
      "application/vnd.jupyter.widget-view+json": {
       "model_id": "ac6aed70dec1409196a76d39a93fc3a9",
       "version_major": 2,
       "version_minor": 0
      },
      "text/plain": [
       "VBox(children=(Text(value='', description='PDF:', placeholder='path to your pdf file', style=TextStyle(descrip…"
      ]
     },
     "execution_count": 4,
     "metadata": {},
     "output_type": "execute_result"
    }
   ],
   "source": [
    "pdf = widgets.Text(description = \"PDF:\", placeholder = \"path to your pdf file\", style = {\"description_width\" : \"initial\"})\n",
    "save_as = widgets.Text(description = \"Save as:\", placeholder = \"path to save csv (ex: embeddings.csv)\", style = {\"description_width\" : \"initial\"})\n",
    "widgets.VBox([pdf, save_as])"
   ]
  },
  {
   "cell_type": "code",
   "execution_count": 5,
   "id": "3a3feba5-4f8d-402f-a6cf-e997c52adfb5",
   "metadata": {
    "tags": []
   },
   "outputs": [
    {
     "data": {
      "text/html": [
       "Embeddings saved as: calc_embeddings.csv"
      ],
      "text/plain": [
       "<IPython.core.display.HTML object>"
      ]
     },
     "metadata": {},
     "output_type": "display_data"
    }
   ],
   "source": [
    "ef.get_embeddings(pdf.value,save_as.value)"
   ]
  }
 ],
 "metadata": {
  "kernelspec": {
   "display_name": "chat_bot",
   "language": "python",
   "name": "chat_bot"
  },
  "language_info": {
   "codemirror_mode": {
    "name": "ipython",
    "version": 3
   },
   "file_extension": ".py",
   "mimetype": "text/x-python",
   "name": "python",
   "nbconvert_exporter": "python",
   "pygments_lexer": "ipython3",
   "version": "3.11.4"
  }
 },
 "nbformat": 4,
 "nbformat_minor": 5
}
